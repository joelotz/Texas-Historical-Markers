{
 "cells": [
  {
   "cell_type": "code",
   "execution_count": 3,
   "id": "1ee158d0",
   "metadata": {},
   "outputs": [],
   "source": [
    "import utm\n",
    "import hmdb"
   ]
  },
  {
   "cell_type": "code",
   "execution_count": 4,
   "id": "dcea43b4",
   "metadata": {},
   "outputs": [],
   "source": [
    "# Delete the old dataframes to cleanup and prevent any overlap\n",
    "if 'atlas' in locals() or 'atlas' in globals(): del atlas\n",
    "if 'filtered_df' in locals() or 'filtered_df' in globals(): del filtered_df\n",
    "\n",
    "# Read my database and pull into a dataframe\n",
    "atlas_filename = \"atlas_db.csv\"\n",
    "atlas = hmdb.read_atlas(atlas_filename)"
   ]
  },
  {
   "cell_type": "code",
   "execution_count": 5,
   "id": "e39df598",
   "metadata": {},
   "outputs": [
    {
     "name": "stdout",
     "output_type": "stream",
     "text": [
      "There are 11182 rows in the filtered dataframe meeting the criteria\n"
     ]
    }
   ],
   "source": [
    "filtered_df = atlas[(atlas['ref:hmdb'].notna()) & (atlas['isHMDB'] == True)]\n",
    "\n",
    "if filtered_df.empty:\n",
    "    print(\"The DataFrame is empty\")\n",
    "else:\n",
    "    print(f\"There are {filtered_df.shape[0]} rows in the filtered dataframe meeting the criteria\")"
   ]
  },
  {
   "cell_type": "code",
   "execution_count": 6,
   "id": "c444af7d",
   "metadata": {},
   "outputs": [
    {
     "ename": "AttributeError",
     "evalue": "'Series' object has no attribute 'list'",
     "output_type": "error",
     "traceback": [
      "\u001b[0;31m---------------------------------------------------------------------------\u001b[0m",
      "\u001b[0;31mAttributeError\u001b[0m                            Traceback (most recent call last)",
      "\u001b[0;32m/tmp/ipykernel_18847/1529035253.py\u001b[0m in \u001b[0;36m?\u001b[0;34m()\u001b[0m\n\u001b[1;32m      1\u001b[0m \u001b[0mupdated_nodes\u001b[0m \u001b[0;34m=\u001b[0m \u001b[0;34m[\u001b[0m\u001b[0;34m]\u001b[0m\u001b[0;34m\u001b[0m\u001b[0;34m\u001b[0m\u001b[0m\n\u001b[0;32m----> 2\u001b[0;31m \u001b[0mfiltered_df\u001b[0m\u001b[0;34m[\u001b[0m\u001b[0;34m\"ref:US-TX:thc\"\u001b[0m\u001b[0;34m]\u001b[0m\u001b[0;34m.\u001b[0m\u001b[0mlist\u001b[0m\u001b[0;34m(\u001b[0m\u001b[0;34m)\u001b[0m\u001b[0;34m\u001b[0m\u001b[0;34m\u001b[0m\u001b[0m\n\u001b[0m",
      "\u001b[0;32m/usr/lib/python3/dist-packages/pandas/core/generic.py\u001b[0m in \u001b[0;36m?\u001b[0;34m(self, name)\u001b[0m\n\u001b[1;32m   6200\u001b[0m             \u001b[0;32mand\u001b[0m \u001b[0mname\u001b[0m \u001b[0;32mnot\u001b[0m \u001b[0;32min\u001b[0m \u001b[0mself\u001b[0m\u001b[0;34m.\u001b[0m\u001b[0m_accessors\u001b[0m\u001b[0;34m\u001b[0m\u001b[0;34m\u001b[0m\u001b[0m\n\u001b[1;32m   6201\u001b[0m             \u001b[0;32mand\u001b[0m \u001b[0mself\u001b[0m\u001b[0;34m.\u001b[0m\u001b[0m_info_axis\u001b[0m\u001b[0;34m.\u001b[0m\u001b[0m_can_hold_identifiers_and_holds_name\u001b[0m\u001b[0;34m(\u001b[0m\u001b[0mname\u001b[0m\u001b[0;34m)\u001b[0m\u001b[0;34m\u001b[0m\u001b[0;34m\u001b[0m\u001b[0m\n\u001b[1;32m   6202\u001b[0m         \u001b[0;34m)\u001b[0m\u001b[0;34m:\u001b[0m\u001b[0;34m\u001b[0m\u001b[0;34m\u001b[0m\u001b[0m\n\u001b[1;32m   6203\u001b[0m             \u001b[0;32mreturn\u001b[0m \u001b[0mself\u001b[0m\u001b[0;34m[\u001b[0m\u001b[0mname\u001b[0m\u001b[0;34m]\u001b[0m\u001b[0;34m\u001b[0m\u001b[0;34m\u001b[0m\u001b[0m\n\u001b[0;32m-> 6204\u001b[0;31m         \u001b[0;32mreturn\u001b[0m \u001b[0mobject\u001b[0m\u001b[0;34m.\u001b[0m\u001b[0m__getattribute__\u001b[0m\u001b[0;34m(\u001b[0m\u001b[0mself\u001b[0m\u001b[0;34m,\u001b[0m \u001b[0mname\u001b[0m\u001b[0;34m)\u001b[0m\u001b[0;34m\u001b[0m\u001b[0;34m\u001b[0m\u001b[0m\n\u001b[0m",
      "\u001b[0;31mAttributeError\u001b[0m: 'Series' object has no attribute 'list'"
     ]
    }
   ],
   "source": [
    "updated_nodes = []\n",
    "filtered_df[\"ref:US-TX:thc\"].list()"
   ]
  },
  {
   "cell_type": "code",
   "execution_count": 8,
   "id": "6372c66c",
   "metadata": {},
   "outputs": [
    {
     "name": "stdout",
     "output_type": "stream",
     "text": [
      "Name: Hood Cemetery\n",
      "Easting: 671373.3725328423\n",
      "Northing: 3648482.196266338\n",
      "Zone Number: 14\n",
      "Zone Letter: S\n",
      "Name: Old Hico\n",
      "Easting: 593388.3988910455\n",
      "Northing: 3535251.038191607\n",
      "Zone Number: 14\n",
      "Zone Letter: R\n",
      "Name: Absalom H. Chivers Cemetery\n",
      "Easting: 674085.7637908198\n",
      "Northing: 3648205.943422552\n",
      "Zone Number: 14\n",
      "Zone Letter: S\n",
      "Name: White's Chapel Cemetery\n",
      "Easting: 672856.1108577803\n",
      "Northing: 3646222.330172726\n",
      "Zone Number: 14\n",
      "Zone Letter: S\n",
      "Name: Medlin Cemetery\n",
      "Easting: 669087.8099536529\n",
      "Northing: 3652530.400559481\n",
      "Zone Number: 14\n",
      "Zone Letter: S\n",
      "Name: Elizabeth Cemetery\n",
      "Easting: 661484.5867858633\n",
      "Northing: 3654370.93284355\n",
      "Zone Number: 14\n",
      "Zone Letter: S\n"
     ]
    },
    {
     "ename": "OutOfRangeError",
     "evalue": "latitude out of range (must be between 80 deg S and 84 deg N)",
     "output_type": "error",
     "traceback": [
      "\u001b[0;31m---------------------------------------------------------------------------\u001b[0m",
      "\u001b[0;31mOutOfRangeError\u001b[0m                           Traceback (most recent call last)",
      "Cell \u001b[0;32mIn[8], line 4\u001b[0m\n\u001b[1;32m      2\u001b[0m latitude \u001b[38;5;241m=\u001b[39m row[\u001b[38;5;124m'\u001b[39m\u001b[38;5;124mhmdb:Latitude\u001b[39m\u001b[38;5;124m'\u001b[39m]\n\u001b[1;32m      3\u001b[0m longitude \u001b[38;5;241m=\u001b[39m row[\u001b[38;5;124m'\u001b[39m\u001b[38;5;124mhmdb:Longitude\u001b[39m\u001b[38;5;124m'\u001b[39m]\n\u001b[0;32m----> 4\u001b[0m easting, northing, zone_number, zone_letter \u001b[38;5;241m=\u001b[39m \u001b[43mutm\u001b[49m\u001b[38;5;241;43m.\u001b[39;49m\u001b[43mfrom_latlon\u001b[49m\u001b[43m(\u001b[49m\u001b[43mlatitude\u001b[49m\u001b[43m,\u001b[49m\u001b[43m \u001b[49m\u001b[43mlongitude\u001b[49m\u001b[43m)\u001b[49m\n\u001b[1;32m      5\u001b[0m \u001b[38;5;28mprint\u001b[39m(\u001b[38;5;124m\"\u001b[39m\u001b[38;5;124mName:\u001b[39m\u001b[38;5;124m\"\u001b[39m, row[\u001b[38;5;124m'\u001b[39m\u001b[38;5;124mname\u001b[39m\u001b[38;5;124m'\u001b[39m])\n\u001b[1;32m      6\u001b[0m \u001b[38;5;28mprint\u001b[39m(\u001b[38;5;124m\"\u001b[39m\u001b[38;5;124mEasting:\u001b[39m\u001b[38;5;124m\"\u001b[39m, easting)\n",
      "File \u001b[0;32m/usr/lib/python3/dist-packages/utm/conversion.py:229\u001b[0m, in \u001b[0;36mfrom_latlon\u001b[0;34m(latitude, longitude, force_zone_number, force_zone_letter)\u001b[0m\n\u001b[1;32m    190\u001b[0m \u001b[38;5;250m\u001b[39m\u001b[38;5;124;03m\"\"\"This function converts Latitude and Longitude to UTM coordinate\u001b[39;00m\n\u001b[1;32m    191\u001b[0m \n\u001b[1;32m    192\u001b[0m \u001b[38;5;124;03m    Parameters\u001b[39;00m\n\u001b[0;32m   (...)\u001b[0m\n\u001b[1;32m    226\u001b[0m \u001b[38;5;124;03m   .. _[1]: http://www.jaworski.ca/utmzones.htm\u001b[39;00m\n\u001b[1;32m    227\u001b[0m \u001b[38;5;124;03m\"\"\"\u001b[39;00m\n\u001b[1;32m    228\u001b[0m \u001b[38;5;28;01mif\u001b[39;00m \u001b[38;5;129;01mnot\u001b[39;00m in_bounds(latitude, \u001b[38;5;241m-\u001b[39m\u001b[38;5;241m80.0\u001b[39m, \u001b[38;5;241m84.0\u001b[39m):\n\u001b[0;32m--> 229\u001b[0m     \u001b[38;5;28;01mraise\u001b[39;00m OutOfRangeError(\u001b[38;5;124m'\u001b[39m\u001b[38;5;124mlatitude out of range (must be between 80 deg S and 84 deg N)\u001b[39m\u001b[38;5;124m'\u001b[39m)\n\u001b[1;32m    230\u001b[0m \u001b[38;5;28;01mif\u001b[39;00m \u001b[38;5;129;01mnot\u001b[39;00m in_bounds(longitude, \u001b[38;5;241m-\u001b[39m\u001b[38;5;241m180.0\u001b[39m, \u001b[38;5;241m180.0\u001b[39m):\n\u001b[1;32m    231\u001b[0m     \u001b[38;5;28;01mraise\u001b[39;00m OutOfRangeError(\u001b[38;5;124m'\u001b[39m\u001b[38;5;124mlongitude out of range (must be between 180 deg W and 180 deg E)\u001b[39m\u001b[38;5;124m'\u001b[39m)\n",
      "\u001b[0;31mOutOfRangeError\u001b[0m: latitude out of range (must be between 80 deg S and 84 deg N)"
     ]
    }
   ],
   "source": [
    "for index, row in filtered_df.iterrows():\n",
    "    latitude = row['hmdb:Latitude']\n",
    "    longitude = row['hmdb:Longitude']\n",
    "    easting, northing, zone_number, zone_letter = utm.from_latlon(latitude, longitude)\n",
    "    print(\"Name:\", row['name'])\n",
    "    print(\"Easting:\", easting)\n",
    "    print(\"Northing:\", northing)\n",
    "    print(\"Zone Number:\", zone_number)\n",
    "    print(\"Zone Letter:\", zone_letter)"
   ]
  },
  {
   "cell_type": "code",
   "execution_count": null,
   "id": "a14f1c06",
   "metadata": {},
   "outputs": [],
   "source": []
  }
 ],
 "metadata": {
  "kernelspec": {
   "display_name": "Python 3 (ipykernel)",
   "language": "python",
   "name": "python3"
  },
  "language_info": {
   "codemirror_mode": {
    "name": "ipython",
    "version": 3
   },
   "file_extension": ".py",
   "mimetype": "text/x-python",
   "name": "python",
   "nbconvert_exporter": "python",
   "pygments_lexer": "ipython3",
   "version": "3.12.3"
  }
 },
 "nbformat": 4,
 "nbformat_minor": 5
}
