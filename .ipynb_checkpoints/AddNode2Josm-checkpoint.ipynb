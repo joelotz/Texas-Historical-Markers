{
 "cells": [
  {
   "cell_type": "code",
   "execution_count": 1,
   "id": "363020f4",
   "metadata": {},
   "outputs": [],
   "source": [
    "import hmdb"
   ]
  },
  {
   "cell_type": "code",
   "execution_count": 31,
   "id": "b4b1781f",
   "metadata": {},
   "outputs": [],
   "source": [
    "# Delete the old dataframes to cleanup and prevent any overlap\n",
    "if 'atlas' in locals() or 'atlas' in globals(): del atlas\n",
    "if 'filtered_df' in locals() or 'filtered_df' in globals(): del filtered_df\n",
    "\n",
    "# Read my database and pull into a dataframe\n",
    "atlas_filename = \"atlas_db.csv\"\n",
    "atlas = hmdb.read_atlas(atlas_filename)"
   ]
  },
  {
   "cell_type": "code",
   "execution_count": 32,
   "id": "d83ff534",
   "metadata": {},
   "outputs": [
    {
     "name": "stdout",
     "output_type": "stream",
     "text": [
      "The DataFrame is empty\n"
     ]
    }
   ],
   "source": [
    "# Filter the Atlas database to markers that has HMDB entry but are not in OSM\n",
    "county = \"Upton\"\n",
    "#Hemphill\n",
    "#San Jacinto\n",
    "#Throckmorton\n",
    "#Titus\n",
    "#Trinity\n",
    "#Tyler\n",
    "#Upshur\n",
    "#Upton\n",
    "#Uvalde\n",
    "#Val Verde\n",
    "#Van Zandt\n",
    "#Victoria\n",
    "#Walker\n",
    "#Ward\n",
    "#Washington\n",
    "#Webb\n",
    "#Wharton\n",
    "#Wheeler\n",
    "#Wichita\n",
    "#Wilbarger\n",
    "#Williamson\n",
    "#Wilson\n",
    "#Wise\n",
    "#Wood\n",
    "#Yoakum\n",
    "#Young\n",
    "#Zapata\n",
    "\n",
    "\n",
    "#filtered_df = atlas[(atlas['addr:county'] == county) & (atlas['ref:hmdb'].notna()) & (atlas['isHMDB'] == True) & (atlas['isOSM'] == False)]\n",
    "\n",
    "## Regardless of County, showing missing OSM\n",
    "filtered_df = atlas[(atlas['ref:hmdb'].notna()) & (atlas['isHMDB'] == True) & (atlas['isOSM'] == False)]\n",
    "\n",
    "if filtered_df.empty:\n",
    "    print(\"The DataFrame is empty\")\n",
    "else:\n",
    "    print(f\"There are {filtered_df.shape[0]} rows in the filtered dataframe meeting the criteria\")"
   ]
  },
  {
   "cell_type": "code",
   "execution_count": 27,
   "id": "4cd5247d",
   "metadata": {},
   "outputs": [
    {
     "name": "stdout",
     "output_type": "stream",
     "text": [
      "Completed pushing 1 nodes to JOSM\n"
     ]
    }
   ],
   "source": [
    "# Create JOSM nodes from a filtered dataframe\n",
    "### Do this the first time pushing to JOSM, otherwise you have to accept a lot of tags\n",
    "#nodes = hmdb.create_nodes(filtered_df.head(1))\n",
    "nodes = hmdb.create_nodes(filtered_df)\n",
    "        \n",
    "# Push the created nodes to JOSM\n",
    "updated_nodes = hmdb.push2josm(nodes)"
   ]
  },
  {
   "cell_type": "code",
   "execution_count": 28,
   "id": "7d27959f",
   "metadata": {},
   "outputs": [
    {
     "name": "stdout",
     "output_type": "stream",
     "text": [
      "2 fields were updated\n"
     ]
    }
   ],
   "source": [
    "# Once the nodes are in OSM, update the dataframe to reflect \"inOSM\"=True\n",
    "atlas = hmdb.update_isOSM(updated_nodes, atlas)"
   ]
  },
  {
   "cell_type": "code",
   "execution_count": 29,
   "id": "d7e1b1af",
   "metadata": {},
   "outputs": [],
   "source": [
    "### Go back up and run another county, OR\n",
    "#     run the block below to save work."
   ]
  },
  {
   "cell_type": "code",
   "execution_count": 30,
   "id": "992b239c",
   "metadata": {},
   "outputs": [
    {
     "name": "stdout",
     "output_type": "stream",
     "text": [
      "atlas_db.csv written to disk.\n",
      "./file_backup/20241226_atlas_db.csv written to disk.\n"
     ]
    }
   ],
   "source": [
    "# Write the dataframe back out to csv file. \n",
    "#  The file will prepend to date to prevent overwriting to \"orginal\" file. \n",
    "#  Make sure you update file names by copying file into archive then removing the date to make it the latest.\n",
    "hmdb.write2csv(atlas, atlas_filename)\n",
    "hmdb.write2csv(atlas, atlas_filename,True)"
   ]
  },
  {
   "cell_type": "code",
   "execution_count": null,
   "id": "a1561f94",
   "metadata": {},
   "outputs": [],
   "source": []
  },
  {
   "cell_type": "code",
   "execution_count": null,
   "id": "d7a7942a",
   "metadata": {},
   "outputs": [],
   "source": []
  },
  {
   "cell_type": "code",
   "execution_count": null,
   "id": "7cec0dbe",
   "metadata": {},
   "outputs": [],
   "source": [
    "column_names_list = atlas.columns.tolist()\n",
    "print(column_names_list)"
   ]
  },
  {
   "cell_type": "code",
   "execution_count": null,
   "id": "6120a0d4",
   "metadata": {},
   "outputs": [],
   "source": []
  },
  {
   "cell_type": "code",
   "execution_count": null,
   "id": "e6aac9f7",
   "metadata": {},
   "outputs": [],
   "source": []
  }
 ],
 "metadata": {
  "kernelspec": {
   "display_name": "Python 3 (ipykernel)",
   "language": "python",
   "name": "python3"
  },
  "language_info": {
   "codemirror_mode": {
    "name": "ipython",
    "version": 3
   },
   "file_extension": ".py",
   "mimetype": "text/x-python",
   "name": "python",
   "nbconvert_exporter": "python",
   "pygments_lexer": "ipython3",
   "version": "3.12.3"
  }
 },
 "nbformat": 4,
 "nbformat_minor": 5
}
