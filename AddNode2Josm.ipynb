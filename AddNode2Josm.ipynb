{
 "cells": [
  {
   "cell_type": "code",
   "execution_count": 1,
   "id": "363020f4",
   "metadata": {},
   "outputs": [],
   "source": [
    "import hmdb"
   ]
  },
  {
   "cell_type": "code",
   "execution_count": 21,
   "id": "b4b1781f",
   "metadata": {},
   "outputs": [],
   "source": [
    "# Delete the old dataframes to cleanup and prevent any overlap\n",
    "if 'atlas' in locals() or 'atlas' in globals(): del atlas\n",
    "if 'filtered_df' in locals() or 'filtered_df' in globals(): del filtered_df\n",
    "\n",
    "# Read my database and pull into a dataframe\n",
    "atlas_filename = \"atlas_db.csv\"\n",
    "atlas = hmdb.read_atlas(atlas_filename)"
   ]
  },
  {
   "cell_type": "code",
   "execution_count": 22,
   "id": "d83ff534",
   "metadata": {},
   "outputs": [
    {
     "name": "stdout",
     "output_type": "stream",
     "text": [
      "There are 1 rows in the filtered dataframe meeting the criteria\n"
     ]
    }
   ],
   "source": [
    "# Filter the Atlas database to markers that has HMDB entry but are not in OSM\n",
    "county = \"Denton\"\n",
    "#Hemphill\n",
    "#San Jacinto\n",
    "#Throckmorton\n",
    "#Titus\n",
    "#Trinity\n",
    "#Tyler\n",
    "#Upshur\n",
    "#Upton\n",
    "#Uvalde\n",
    "#Val Verde\n",
    "#Van Zandt\n",
    "#Victoria\n",
    "#Walker\n",
    "#Ward\n",
    "#Washington\n",
    "#Webb\n",
    "#Wharton\n",
    "#Wheeler\n",
    "#Wichita\n",
    "#Wilbarger\n",
    "#Williamson\n",
    "#Wilson\n",
    "#Wise\n",
    "#Wood\n",
    "#Yoakum\n",
    "#Young\n",
    "#Zapata\n",
    "\n",
    "\n",
    "filtered_df = atlas[(atlas['addr:county'] == county) & (atlas['ref:hmdb'].notna()) & (atlas['ref:US-TX:thc'].notna()) & (atlas['isHMDB'] == True) & (atlas['isOSM'] == False)]\n",
    "\n",
    "## Regardless of County, showing missing OSM\n",
    "##filtered_df = atlas[(atlas['ref:hmdb'].notna()) & (atlas['ref:US-TX:thc'].notna()) & (atlas['isHMDB'] == True) & (atlas['isOSM'] == False)]\n",
    "\n",
    "if filtered_df.empty:\n",
    "    print(\"The DataFrame is empty\")\n",
    "else:\n",
    "    print(f\"There are {filtered_df.shape[0]} rows in the filtered dataframe meeting the criteria\")"
   ]
  },
  {
   "cell_type": "code",
   "execution_count": 23,
   "id": "4cd5247d",
   "metadata": {},
   "outputs": [
    {
     "name": "stdout",
     "output_type": "stream",
     "text": [
      "Completed pushing 1 nodes to JOSM\n"
     ]
    }
   ],
   "source": [
    "# Create JOSM nodes from a filtered dataframe\n",
    "### Do this the first time pushing to JOSM, otherwise you have to accept a lot of tags\n",
    "#nodes = hmdb.create_nodes(filtered_df.head(1))\n",
    "nodes = hmdb.create_nodes(filtered_df)\n",
    "        \n",
    "# Push the created nodes to JOSM\n",
    "updated_nodes = hmdb.push2josm(nodes)"
   ]
  },
  {
   "cell_type": "code",
   "execution_count": 24,
   "id": "7d27959f",
   "metadata": {},
   "outputs": [
    {
     "name": "stdout",
     "output_type": "stream",
     "text": [
      "1 fields were updated\n"
     ]
    }
   ],
   "source": [
    "# Once the nodes are in OSM, update the dataframe to reflect \"inOSM\"=True\n",
    "atlas = hmdb.update_isOSM(updated_nodes, atlas)"
   ]
  },
  {
   "cell_type": "code",
   "execution_count": 25,
   "id": "d7e1b1af",
   "metadata": {},
   "outputs": [],
   "source": [
    "### Go back up and run another county, OR\n",
    "#     run the block below to save work."
   ]
  },
  {
   "cell_type": "code",
   "execution_count": 26,
   "id": "992b239c",
   "metadata": {},
   "outputs": [
    {
     "name": "stdout",
     "output_type": "stream",
     "text": [
      "atlas_db.csv written to disk.\n",
      "./file_backup/20250329_atlas_db.csv written to disk.\n"
     ]
    }
   ],
   "source": [
    "# Write the dataframe back out to csv file. \n",
    "#  The file will prepend to date to prevent overwriting to \"orginal\" file. \n",
    "#  Make sure you update file names by copying file into archive then removing the date to make it the latest.\n",
    "hmdb.write2csv(atlas, atlas_filename)\n",
    "hmdb.write2csv(atlas, atlas_filename,True)"
   ]
  },
  {
   "cell_type": "code",
   "execution_count": 4,
   "id": "a1561f94",
   "metadata": {},
   "outputs": [
    {
     "data": {
      "text/html": [
       "<div>\n",
       "<style scoped>\n",
       "    .dataframe tbody tr th:only-of-type {\n",
       "        vertical-align: middle;\n",
       "    }\n",
       "\n",
       "    .dataframe tbody tr th {\n",
       "        vertical-align: top;\n",
       "    }\n",
       "\n",
       "    .dataframe thead th {\n",
       "        text-align: right;\n",
       "    }\n",
       "</style>\n",
       "<table border=\"1\" class=\"dataframe\">\n",
       "  <thead>\n",
       "    <tr style=\"text-align: right;\">\n",
       "      <th></th>\n",
       "      <th>ref:US-TX:thc</th>\n",
       "      <th>ref:hmdb</th>\n",
       "      <th>name</th>\n",
       "      <th>website</th>\n",
       "      <th>memorial:website</th>\n",
       "      <th>memorial:website.1</th>\n",
       "      <th>isTHC</th>\n",
       "      <th>isHMDB</th>\n",
       "      <th>isMissing</th>\n",
       "      <th>isPending</th>\n",
       "      <th>...</th>\n",
       "      <th>hmdb:Latitude</th>\n",
       "      <th>hmdb:Longitude</th>\n",
       "      <th>Recorded Texas Historic Landmark</th>\n",
       "      <th>thc:designation</th>\n",
       "      <th>Private Property</th>\n",
       "      <th>Marker Notes</th>\n",
       "      <th>wikimedia_commons</th>\n",
       "      <th>Marker Text</th>\n",
       "      <th>inscription_size</th>\n",
       "      <th>DATA_NOTE</th>\n",
       "    </tr>\n",
       "  </thead>\n",
       "  <tbody>\n",
       "    <tr>\n",
       "      <th>0</th>\n",
       "      <td>2551</td>\n",
       "      <td>292905</td>\n",
       "      <td>Hood Cemetery</td>\n",
       "      <td>https://atlas.thc.texas.gov/Details/5439002551</td>\n",
       "      <td>NaN</td>\n",
       "      <td>NaN</td>\n",
       "      <td>True</td>\n",
       "      <td>True</td>\n",
       "      <td>False</td>\n",
       "      <td>False</td>\n",
       "      <td>...</td>\n",
       "      <td>32.961239</td>\n",
       "      <td>-97.166408</td>\n",
       "      <td>False</td>\n",
       "      <td>Historical Marker</td>\n",
       "      <td>False</td>\n",
       "      <td>Coventry Lane at King's Court, Southlake; in C...</td>\n",
       "      <td>NaN</td>\n",
       "      <td>This cemetery was established on the farm of P...</td>\n",
       "      <td>563.0</td>\n",
       "      <td>NaN</td>\n",
       "    </tr>\n",
       "  </tbody>\n",
       "</table>\n",
       "<p>1 rows × 30 columns</p>\n",
       "</div>"
      ],
      "text/plain": [
       "   ref:US-TX:thc  ref:hmdb           name  \\\n",
       "0           2551    292905  Hood Cemetery   \n",
       "\n",
       "                                          website memorial:website  \\\n",
       "0  https://atlas.thc.texas.gov/Details/5439002551              NaN   \n",
       "\n",
       "  memorial:website.1  isTHC  isHMDB  isMissing  isPending  ...  hmdb:Latitude  \\\n",
       "0                NaN   True    True      False      False  ...      32.961239   \n",
       "\n",
       "   hmdb:Longitude Recorded Texas Historic Landmark    thc:designation  \\\n",
       "0      -97.166408                            False  Historical Marker   \n",
       "\n",
       "  Private Property                                       Marker Notes  \\\n",
       "0            False  Coventry Lane at King's Court, Southlake; in C...   \n",
       "\n",
       "   wikimedia_commons                                        Marker Text  \\\n",
       "0                NaN  This cemetery was established on the farm of P...   \n",
       "\n",
       "   inscription_size  DATA_NOTE  \n",
       "0             563.0        NaN  \n",
       "\n",
       "[1 rows x 30 columns]"
      ]
     },
     "execution_count": 4,
     "metadata": {},
     "output_type": "execute_result"
    }
   ],
   "source": [
    "atlas.head(1)\n"
   ]
  },
  {
   "cell_type": "code",
   "execution_count": 6,
   "id": "d7a7942a",
   "metadata": {},
   "outputs": [
    {
     "data": {
      "text/plain": [
       "pandas.core.series.Series"
      ]
     },
     "execution_count": 6,
     "metadata": {},
     "output_type": "execute_result"
    }
   ],
   "source": [
    "type(atlas['thc:Latitude'])"
   ]
  },
  {
   "cell_type": "code",
   "execution_count": null,
   "id": "7cec0dbe",
   "metadata": {},
   "outputs": [],
   "source": [
    "column_names_list = atlas.columns.tolist()\n",
    "print(column_names_list)"
   ]
  },
  {
   "cell_type": "code",
   "execution_count": null,
   "id": "6120a0d4",
   "metadata": {},
   "outputs": [],
   "source": []
  },
  {
   "cell_type": "code",
   "execution_count": 12,
   "id": "e6aac9f7",
   "metadata": {},
   "outputs": [
    {
     "data": {
      "text/plain": [
       "[{'lat': 33.3870587,\n",
       "  'lon': -96.9496989,\n",
       "  'tags': {'name': 'Skinner Cemetery',\n",
       "   'historic': 'memorial',\n",
       "   'memorial': 'plaque',\n",
       "   'material': 'aluminium',\n",
       "   'support': 'pole',\n",
       "   'operator': 'Texas Historical Commission',\n",
       "   'operator:wikidata': 'Q2397965',\n",
       "   'thc:designation': 'Historical Marker',\n",
       "   'start_date': 1997,\n",
       "   'ref:US-TX:thc': 11847,\n",
       "   'ref:hmdb': 269129,\n",
       "   'source:website': 'https://atlas.thc.texas.gov/Details/5121011847',\n",
       "   'memorial:website': 'https://www.hmdb.org/m.asp?m=269129'}}]"
      ]
     },
     "execution_count": 12,
     "metadata": {},
     "output_type": "execute_result"
    }
   ],
   "source": [
    "nodes"
   ]
  },
  {
   "cell_type": "code",
   "execution_count": null,
   "id": "82d725b7",
   "metadata": {},
   "outputs": [],
   "source": []
  }
 ],
 "metadata": {
  "kernelspec": {
   "display_name": "Python 3 (ipykernel)",
   "language": "python",
   "name": "python3"
  },
  "language_info": {
   "codemirror_mode": {
    "name": "ipython",
    "version": 3
   },
   "file_extension": ".py",
   "mimetype": "text/x-python",
   "name": "python",
   "nbconvert_exporter": "python",
   "pygments_lexer": "ipython3",
   "version": "3.12.3"
  }
 },
 "nbformat": 4,
 "nbformat_minor": 5
}
